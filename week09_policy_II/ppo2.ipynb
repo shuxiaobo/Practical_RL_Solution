{
 "cells": [
  {
   "cell_type": "markdown",
   "metadata": {},
   "source": [
    "# Implementing Proximal Policy Optimization \n",
    "\n",
    "\n",
    "In this notebook you will be implementing Proximal Policy Optimization algorithm, \n",
    "scaled up version of which was used to train [OpenAI Five](https://openai.com/blog/openai-five/) \n",
    "to [win](https://openai.com/blog/how-to-train-your-openai-five/) against the\n",
    "world champions in Dota 2.\n",
    "You will be solving a continuous control environment on which it may be easier and faster \n",
    "to train an agent, however note that PPO here may not be the best algorithm as, for example,\n",
    "Deep Deterministic Policy Gradient and Soft Actor Critic may be more suited \n",
    "for continuous control environments. To run the environment you will need to install \n",
    "[pybullet-gym](https://github.com/benelot/pybullet-gym) which unlike MuJoCo \n",
    "does not require you to have a license.\n",
    "\n",
    "To install the library:"
   ]
  },
  {
   "cell_type": "code",
   "execution_count": 1,
   "metadata": {},
   "outputs": [],
   "source": [
    "# !git clone https://github.com/benelot/pybullet-gym lib/pybullet-gym\n",
    "# !pip install -e lib/pybullet-gym\n",
    "\n",
    "#### Attention\n",
    "####I installed pybullet=2.5.9 after previous Cell"
   ]
  },
  {
   "cell_type": "markdown",
   "metadata": {},
   "source": [
    "The overall structure of the code is similar to the one in the A2C optional homework, but don't worry if you haven't done it, it should be relatively easy to figure it out. \n",
    "First, we will create an instance of the environment. \n",
    "We will normalize the observations and rewards, but before that you will need a wrapper that will \n",
    "write summaries, mainly, the total reward during an episode. You can either use one for `TensorFlow` \n",
    "implemented in `atari_wrappers.py` file from the optional A2C homework, or implement your own. "
   ]
  },
  {
   "cell_type": "code",
   "execution_count": 3,
   "metadata": {},
   "outputs": [
    {
     "name": "stdout",
     "output_type": "stream",
     "text": [
      "WalkerBase::__init__\n",
      "argv[0]=\n",
      "observation space:  Box(17,) \n",
      "observations: [ 0.06480546 -0.05212926 -0.06679531 -0.02644325  0.08359195 -0.03039035\n",
      " -0.02297993 -0.04762188  0.          0.          0.          0.\n",
      "  0.          0.          0.          0.          0.        ]\n",
      "action space:  Box(6,) \n",
      "action_sample:  [-0.6988559  -0.31582147  0.4514603  -0.19408327 -0.24803396 -0.5942936 ]\n",
      "argv[0]=\n"
     ]
    },
    {
     "name": "stderr",
     "output_type": "stream",
     "text": [
      "pybullet build time: Jul 24 2023 20:20:51\n"
     ]
    }
   ],
   "source": [
    "import gym \n",
    "import pybulletgym\n",
    "from tqdm import tqdm\n",
    "from sklearn.metrics import r2_score\n",
    "\n",
    "env = gym.make(\"HalfCheetahMuJoCoEnv-v0\")\n",
    "print(\"observation space: \", env.observation_space,\n",
    "      \"\\nobservations:\", env.reset())\n",
    "print(\"action space: \", env.action_space, \n",
    "      \"\\naction_sample: \", env.action_space.sample())"
   ]
  },
  {
   "cell_type": "markdown",
   "metadata": {},
   "source": [
    "The normalization wrapper will subtract running mean from observations and rewards and divide \n",
    "the resulting quantities by the  running variances."
   ]
  },
  {
   "cell_type": "code",
   "execution_count": 8,
   "metadata": {},
   "outputs": [
    {
     "name": "stdout",
     "output_type": "stream",
     "text": [
      "WalkerBase::__init__\n",
      "WalkerBase::__init__\n"
     ]
    }
   ],
   "source": [
    "from mujoco_wrappers import Normalize\n",
    "\n",
    "env = gym.make(\"HalfCheetahMuJoCoEnv-v0\")\n",
    "env2 = gym.make(\"HalfCheetahMuJoCoEnv-v0\")\n",
    "env.unwrapped.seed(0);"
   ]
  },
  {
   "cell_type": "markdown",
   "metadata": {},
   "source": [
    "Next, you will need to define a model for training. We suggest that you use two separate networks: one for policy\n",
    "and another for value function. Each network should be a 3-layer MLP with 64 hidden units, $\\mathrm{tanh}$ \n",
    "activation function, kernel matrices initialized with orthogonal initializer with parameter $\\sqrt{2}$\n",
    "and biases initialized with zeros. \n",
    "\n",
    "Our policy distribution is going to be multivariate normal with diagonal covariance. \n",
    "The network from above will predict the mean, and the covariance should be represented by a single \n",
    "(learned) vector of size 6 (corresponding to the dimensionality of the action space from above). \n",
    "You should initialize this vector to zero and take the exponent of it to always\n",
    "have a non-negative quantity. \n",
    "\n",
    "Overall the model should return three things: predicted mean of the distribution, variance vector, \n",
    "value function. "
   ]
  },
  {
   "cell_type": "code",
   "execution_count": 9,
   "metadata": {},
   "outputs": [],
   "source": [
    "import torch\n",
    "import numpy as np\n",
    "import torch.nn as nn\n",
    "import torch.nn.functional as F\n",
    "                \n",
    "def layer_init(layer, std=np.sqrt(2), bias_const=0.0):\n",
    "    torch.nn.init.orthogonal_(layer.weight, std)\n",
    "    torch.nn.init.constant_(layer.bias, bias_const)\n",
    "    return layer\n",
    "\n",
    "class PolicyNetwork(nn.Module):\n",
    "    \n",
    "    def __init__(self, shape_in, action_shape, hidden_size=64):\n",
    "        super(PolicyNetwork, self).__init__()\n",
    "        self.dense1 = layer_init(nn.Linear(shape_in, hidden_size))\n",
    "        self.dense2 = layer_init(nn.Linear(hidden_size, hidden_size))\n",
    "        self.dense3_mu = layer_init(nn.Linear(hidden_size, action_shape), std=0.01)\n",
    "        self.dense3_std = layer_init(nn.Linear(hidden_size, action_shape), std=0.0)\n",
    "        \n",
    "    def forward(self, inputs):\n",
    "        hid = torch.tanh(self.dense2(torch.tanh(self.dense1(inputs))))\n",
    "        mu = self.dense3_mu(hid)\n",
    "        sigma = torch.exp(self.dense3_std(hid))\n",
    "        return mu, sigma\n",
    "\n",
    "class ValueNetwork(nn.Module):\n",
    "    \n",
    "    def __init__(self, shape_in, hidden_size=64):\n",
    "        super(ValueNetwork, self).__init__()\n",
    "        self.dense1 = layer_init(nn.Linear(shape_in, hidden_size))\n",
    "        self.dense2 = layer_init(nn.Linear(hidden_size, hidden_size))\n",
    "        self.dense3 = layer_init(nn.Linear(hidden_size, 1), std =1.0)\n",
    "    def forward(self, inputs):\n",
    "        hid = torch.tanh(self.dense2(torch.tanh(self.dense1(inputs))))\n",
    "        return self.dense3(hid)\n",
    "    \n",
    "    \n",
    "class Network(nn.Module):\n",
    "    def __init__(self, shape_in, action_shape, hidden_size=64):\n",
    "        super(Network, self).__init__()\n",
    "        self.policy = PolicyNetwork(shape_in, action_shape, hidden_size)\n",
    "        self.value = ValueNetwork(shape_in, hidden_size)\n",
    "    def forward(self, inputs):\n",
    "        return self.policy(inputs), self.value(inputs)"
   ]
  },
  {
   "cell_type": "markdown",
   "metadata": {},
   "source": [
    "This model will be wrapped by a `Policy`. The policy can work in two modes, but in either case \n",
    "it is going to return dictionary with string-type keys. The first mode is when the policy is \n",
    "used to sample actions for a trajectory which will later be used for training. In this case \n",
    "the flag `training` passed to `act` method is `False` and the method should return \n",
    "a `dict` with the following keys: \n",
    "\n",
    "* `\"actions\"`: actions to pass to the environment\n",
    "* `\"log_probs\"`: log-probabilities of sampled actions\n",
    "* `\"values\"`: value function $V^\\pi(s)$ predictions.\n",
    "\n",
    "We don't need to use the values under these keys for training, so all of them should be of type `np.ndarray`.\n",
    "\n",
    "When `training` is `True`, the model is training on a given batch of observations. In this\n",
    "case it should return a `dict` with the following keys\n",
    "\n",
    "* `\"distribution\"`: an instance of multivariate normal distribution (`torch.distributions.MultivariateNormal` or `tf.distributions.MultivariateNormalDiag`)\n",
    "* `\"values\"`: value function $V^\\pi(s)$ prediction.\n",
    "\n",
    "The distinction about the modes comes into play depending on where the policy is used: if it is called from `EnvRunner`, \n",
    "the `training` flag is `False`, if it is called from `PPO`, the `training` flag is `True`. These classed \n",
    "will be described below. "
   ]
  },
  {
   "cell_type": "code",
   "execution_count": 10,
   "metadata": {},
   "outputs": [],
   "source": [
    "class Policy:\n",
    "    def __init__(self, model):\n",
    "        self.model = model\n",
    "    \n",
    "    def act(self, inputs, training=False):\n",
    "        inputs = torch.tensor(inputs, dtype=torch.float32)\n",
    "        (mus, sigmas), values = self.model(inputs)\n",
    "        dist = torch.distributions.MultivariateNormal(mus, torch.diag_embed(sigmas, 0))\n",
    "        actions = dist.sample()\n",
    "        log_probs = dist.log_prob(actions)\n",
    "        if training:\n",
    "            return {'distribution': dist,\n",
    "                    'values': values}\n",
    "        else:\n",
    "            return {'actions': actions.detach().numpy(),\n",
    "                    'log_probs': log_probs.detach().numpy(),\n",
    "                    'values': values.detach().numpy()}"
   ]
  },
  {
   "cell_type": "markdown",
   "metadata": {},
   "source": [
    "We will use `EnvRunner` to perform interactions with an environment with a policy for a fixed number of timesteps. Calling `.get_next()` on a runner will return a trajectory &mdash; dictionary \n",
    "containing keys\n",
    "\n",
    "* `\"observations\"`\n",
    "* `\"rewards\"` \n",
    "* `\"resets\"`\n",
    "* `\"actions\"`\n",
    "* all other keys that you defined in `Policy`,\n",
    "\n",
    "under each of these keys there is a `np.ndarray` of specified length $T$ &mdash; the size of partial trajectory. \n",
    "\n",
    "Additionally, before returning a trajectory this runner can apply a list of transformations. \n",
    "Each transformation is simply a callable that should modify passed trajectory in-place."
   ]
  },
  {
   "cell_type": "code",
   "execution_count": 11,
   "metadata": {},
   "outputs": [],
   "source": [
    "class AsArray:\n",
    "    \"\"\" \n",
    "       Converts lists of interactions to ndarray.\n",
    "    \"\"\"\n",
    "    def __call__(self, trajectory):\n",
    "      # Modify trajectory inplace. \n",
    "      for k, v in filter(lambda kv: kv[0] != \"state\",\n",
    "                         trajectory.items()):\n",
    "        trajectory[k] = np.asarray(v)"
   ]
  },
  {
   "cell_type": "code",
   "execution_count": 15,
   "metadata": {},
   "outputs": [
    {
     "name": "stdout",
     "output_type": "stream",
     "text": [
      "argv[0]=\n",
      "argv[0]=\n"
     ]
    }
   ],
   "source": [
    "import numpy as np\n",
    "from runners import EnvRunner\n",
    "\n",
    "class DummyPolicy:\n",
    "    def act(self, inputs, training=False):\n",
    "        assert not training\n",
    "        return {\"actions\": np.random.randn(6), \"values\": np.nan}\n",
    "\n",
    "runner = EnvRunner(env, DummyPolicy(), 30,\n",
    "                   transforms=[AsArray()])\n",
    "trajectory = runner.get_next()\n",
    "\n",
    "#{k: v.shape for k, v in trajectory.items() if k != \"state\"}"
   ]
  },
  {
   "cell_type": "markdown",
   "metadata": {},
   "source": [
    "You will need to implement the following two transformations. \n",
    "\n",
    "The first is `GAE` that implements [Generalized Advantage Estimator](https://arxiv.org/abs/1506.02438).\n",
    "In it you should add two keys to the trajectory: `\"advantages\"` and `\"value_targets\"`. In GAE the advantages\n",
    "$A_t^{\\mathrm{GAE}(\\gamma,\\lambda)}$ are essentially defined as the exponential \n",
    "moving average with parameter $\\lambda$ of the regular advantages \n",
    "$\\hat{A}^{(T)}(s_t) = \\sum_{l=0}^{T-1-t} \\gamma^l r_{t+l} + \\gamma^{T} V^\\pi(s_{T}) - V^\\pi(s_t)$. \n",
    "The exact formula for the computation is the following\n",
    "\n",
    "$$\n",
    "A_{t}^{\\mathrm{GAE}(\\gamma,\\lambda)} = \\sum_{l=0}^{T-1-t} (\\gamma\\lambda)^l\\delta_{t + l}^V, \\, t \\in [0, T)\n",
    "$$\n",
    "where $\\delta_{t+l}^V = r_{t+l} + \\gamma V^\\pi(s_{t+l+1}) - V^\\pi(s_{t+l})$. You can look at the \n",
    "derivation (formulas 11-16) in the paper. Don't forget to reset the summation on terminal\n",
    "states as determined by the flags `trajectory[\"resets\"]`. You can use `trajectory[\"values\"]`\n",
    "to get values of all observations except the most recent which is stored under \n",
    " `trajectory[\"state\"][\"latest_observation\"]`. For this observation you will need to call the policy \n",
    " to get the value prediction.\n",
    "\n",
    "Once you computed the advantages, you can get the targets for training the value function by adding \n",
    "back values:\n",
    "$$\n",
    "\\hat{V}(s_{t+l}) = A_{t+l}^{\\mathrm{GAE}(\\gamma,\\lambda)} + V(s_{t + l}),\n",
    "$$\n",
    "where $\\hat{V}$ is a tensor of value targets that are used to train the value function. "
   ]
  },
  {
   "cell_type": "code",
   "execution_count": 16,
   "metadata": {},
   "outputs": [],
   "source": [
    "class GAE:\n",
    "    \"\"\" Generalized Advantage Estimator. \"\"\"\n",
    "    def __init__(self, policy, gamma=0.99, lambda_=0.95):\n",
    "        self.policy = policy\n",
    "        self.gamma = gamma\n",
    "        self.lambda_ = lambda_\n",
    "    \n",
    "    def __call__(self, trajectory):\n",
    "        value_target = policy.act(trajectory['state']['latest_observation'])['values'][0]\n",
    "        env_steps = trajectory['state']['env_steps']\n",
    "        rewards = torch.tensor(trajectory['rewards'], dtype=torch.float32)\n",
    "        dones = torch.tensor(trajectory['resets'], dtype=torch.float32)\n",
    "        is_not_done = 1 - dones\n",
    "        trajectory['values'] = torch.tensor(trajectory['values'],dtype=torch.float32)\n",
    "        trajectory['advantages'] = []\n",
    "        trajectory['value_targets'] = []\n",
    "        gae = 0\n",
    "        for step in reversed(range(env_steps)):\n",
    "            if step==env_steps - 1:\n",
    "                delta = rewards[step] + self.gamma*value_target*is_not_done[step] - trajectory['values'][step]\n",
    "            else:\n",
    "                delta = rewards[step] + self.gamma*trajectory['values'][step + 1]*is_not_done[step] -\\\n",
    "                        trajectory['values'][step]\n",
    "            \n",
    "            gae = delta + self.gamma*self.lambda_*is_not_done[step]*gae\n",
    "            trajectory['advantages'].insert(0, gae)\n",
    "            trajectory['value_targets'].insert(0, gae + trajectory['values'][step])\n",
    "        trajectory['advantages'] = torch.tensor(trajectory['advantages'], dtype=torch.float32)\n",
    "        trajectory['value_targets'] = torch.tensor(trajectory['value_targets'], dtype=torch.float32)"
   ]
  },
  {
   "cell_type": "markdown",
   "metadata": {},
   "source": [
    "The main advantage of PPO over simpler policy based methods like A2C is that it is possible\n",
    "to train on the same trajectory for multiple gradient steps. The following class wraps \n",
    "an `EnvRunner`. It should call the runner to get a trajectory, then return minibatches \n",
    "from it for a number of epochs, shuffling the data before each epoch."
   ]
  },
  {
   "cell_type": "code",
   "execution_count": 17,
   "metadata": {},
   "outputs": [],
   "source": [
    "class TrajectorySampler:\n",
    "    \"\"\" Samples minibatches from trajectory for a number of epochs. \"\"\"\n",
    "    def __init__(self, runner, num_epochs, num_minibatches, transforms=None):\n",
    "        self.runner = runner\n",
    "        self.num_epochs = num_epochs\n",
    "        self.num_minibatches = num_minibatches\n",
    "        self.transforms = transforms or []\n",
    "        self.minibatch_count = 0\n",
    "        self.epoch_count = 0\n",
    "        self.trajectory = self.runner.get_next()\n",
    "        for transform in self.transforms:\n",
    "                transform(self.trajectory)\n",
    "    def shuffle_trajectory(self):\n",
    "        \"\"\" Shuffles all elements in trajectory.\n",
    "            Should be called at the beginning of each epoch.\n",
    "        \"\"\"\n",
    "        pass\n",
    "    \n",
    "    def get_next(self):\n",
    "        \"\"\" Returns next minibatch.  \"\"\"\n",
    "        if self.epoch_count==self.num_epochs:\n",
    "            self.trajectory = self.runner.get_next()\n",
    "            for transform in self.transforms:\n",
    "                transform(self.trajectory)\n",
    "            self.epoch_count = 0\n",
    "        minibatch_dict = {}\n",
    "        rand_inds = np.random.randint(0, self.trajectory['state']['env_steps'], self.num_minibatches)\n",
    "        for key, value in self.trajectory.items():\n",
    "            if key!='state':\n",
    "                if len(value)==2:\n",
    "                    minibatch_dict[key] = self.trajectory[key][rand_inds,:]\n",
    "                else:\n",
    "                    minibatch_dict[key] = self.trajectory[key][rand_inds]\n",
    "        self.epoch_count += 1\n",
    "        return minibatch_dict"
   ]
  },
  {
   "cell_type": "markdown",
   "metadata": {},
   "source": [
    "A common trick to use with GAE is to normalize advantages, the following transformation does that. "
   ]
  },
  {
   "cell_type": "code",
   "execution_count": 18,
   "metadata": {},
   "outputs": [],
   "source": [
    "class NormalizeAdvantages:\n",
    "    \"\"\" Normalizes advantages to have zero mean and variance 1. \"\"\"\n",
    "    def __call__(self, trajectory):\n",
    "        adv = trajectory[\"advantages\"]\n",
    "        adv = (adv - adv.mean()) / (adv.std() + 1e-8)\n",
    "        trajectory[\"advantages\"] = adv"
   ]
  },
  {
   "cell_type": "markdown",
   "metadata": {},
   "source": [
    "Finally, we can create our PPO runner. "
   ]
  },
  {
   "cell_type": "code",
   "execution_count": 19,
   "metadata": {},
   "outputs": [],
   "source": [
    "### Attention: \n",
    "#I changed HERE LOOK (env, policy, num_runner_steps=2048, gamma=0.99, lambda_=0.95,\n",
    "#num_epochs=10, num_minibatches=32)\n",
    "\n",
    "def make_ppo_runner(env, policy, num_runner_steps=1024,\n",
    "                    gamma=0.99, lambda_=0.95, \n",
    "                    num_epochs=16, num_minibatches=64):\n",
    "    \"\"\" Creates runner for PPO algorithm. \"\"\"\n",
    "    runner_transforms = [AsArray(),\n",
    "                         GAE(policy, gamma=gamma, lambda_=lambda_)]\n",
    "    runner = EnvRunner(env, policy, num_runner_steps, \n",
    "                       transforms=runner_transforms)\n",
    "    sampler_transforms = [NormalizeAdvantages()]\n",
    "    sampler = TrajectorySampler(runner, num_epochs=num_epochs, \n",
    "                                num_minibatches=num_minibatches,\n",
    "                                transforms=sampler_transforms)\n",
    "    return sampler"
   ]
  },
  {
   "cell_type": "code",
   "execution_count": 20,
   "metadata": {},
   "outputs": [],
   "source": [
    "model = Network(shape_in=17, action_shape=6)\n",
    "policy = Policy(model)\n",
    "runner = make_ppo_runner(env, policy)"
   ]
  },
  {
   "cell_type": "markdown",
   "metadata": {},
   "source": [
    "In the next cell you will need to implement Proximal Policy Optimization algorithm itself. The algorithm\n",
    "modifies the typical policy gradient loss in the following way:\n",
    "\n",
    "$$\n",
    "J_{\\pi}(s, a) = \\frac{\\pi_\\theta(a|s)}{\\pi_\\theta^{\\text{old}}(a|s)} \\cdot A^{\\mathrm{GAE}(\\gamma,\\lambda)}(s, a)\n",
    "$$\n",
    "\n",
    "$$\n",
    "J_{\\pi}^{\\text{clipped}}(s, a) = \\mathrm{clip}\\left(\n",
    "\\frac{\\pi_\\theta(a|s)}{\\pi_{\\theta^{\\text{old}}}(a|s)},\n",
    "1 - \\text{cliprange}, 1 + \\text{cliprange}\\right)\\cdot A^{\\mathrm{GAE(\\gamma, \\lambda)}}(s)\\\\\n",
    "$$\n",
    "\n",
    "$$\n",
    "L_{\\text{policy}} = -\\frac{1}{T}\\sum_{l=0}^{T-1}\\min\\left(J_\\pi(s_{t + l}, a_{t + l}), J_{\\pi}^{\\text{clipped}}(s_{t + l}, a_{t + l})\\right).\n",
    "$$\n",
    "\n",
    "The value loss is also modified:\n",
    "\n",
    "$$\n",
    "L_{V}^{\\text{clipped}} = \\frac{1}{T}\\sum_{l=0}^{T-1} \\max(l^{simple}(s_{t + l}), l^{clipped}(s_{t + l}))\n",
    "$$\n",
    ", where $l^{simple}$ is your standard critic loss\n",
    "$$\n",
    "l^{simple}(s_{t + l}) = [V_\\theta(s_{t+l}) - G(s_{t + l})]^2\n",
    "$$\n",
    "\n",
    "and $l^{clipped}$ is a clipped version that limits large changes of the value function:\n",
    "$$\n",
    "l^{clipped}(s_{t + l}) = [\n",
    "V_{\\theta^{\\text{old}}}(s_{t+l}) +\n",
    "\\text{clip}\\left(\n",
    "V_\\theta(s_{t+l}) - V_{\\theta^\\text{old}}(s_{t+l}),\n",
    "-\\text{cliprange}, \\text{cliprange}\n",
    "\\right) - G(s_{t + l})] ^ 2\n",
    "$$"
   ]
  },
  {
   "cell_type": "code",
   "execution_count": 21,
   "metadata": {},
   "outputs": [],
   "source": [
    "class PPO:\n",
    "    def __init__(self, policy, optimizer,\n",
    "                   cliprange=0.2,\n",
    "                   value_loss_coef=0.25,\n",
    "                   max_grad_norm=0.5):\n",
    "        self.policy = policy\n",
    "        self.optimizer = optimizer\n",
    "        self.cliprange = cliprange\n",
    "        self.value_loss_coef = value_loss_coef\n",
    "        # Note that we don't need entropy regularization for this env.\n",
    "        self.max_grad_norm = max_grad_norm\n",
    "    \n",
    "    def policy_loss(self, trajectory, act):\n",
    "        \"\"\" Computes and returns policy loss on a given trajectory. \"\"\"\n",
    "        log_probs_all = act['distribution'].log_prob(torch.tensor(trajectory['actions']))\n",
    "        log_old_probs_all = torch.tensor(trajectory['log_probs'])\n",
    "        ratio = (log_probs_all - log_old_probs_all).exp()\n",
    "        J_pi = ratio*trajectory['advantages'].detach()\n",
    "        self.advantages_np = trajectory['advantages'].detach().mean().numpy()\n",
    "        J_pi_clipped = torch.clamp(ratio, 1 - self.cliprange, 1 + self.cliprange)*trajectory['advantages'].detach()\n",
    "        return -torch.mean(torch.min(J_pi, J_pi_clipped))\n",
    "      \n",
    "    def value_loss(self, trajectory, act):\n",
    "        \"\"\" Computes and returns value loss on a given trajectory. \"\"\"\n",
    "        self.values_np = trajectory['values'].detach().mean().cpu().numpy()\n",
    "        L_simple = (act['values'] - trajectory['value_targets'].detach())**2\n",
    "        L_clipped = (trajectory['values'] + torch.clamp(act['values'] - trajectory['values'],\n",
    "                    -self.cliprange, self.cliprange) - trajectory['value_targets'].detach())**2\n",
    "        self.values_loss_np = torch.mean(torch.max(L_simple, L_clipped)).detach().numpy()\n",
    "        return torch.mean(torch.max(L_simple, L_clipped))\n",
    "    \n",
    "      \n",
    "    def loss(self, trajectory):\n",
    "        act = self.policy.act(trajectory[\"observations\"], training=True)\n",
    "        policy_loss = self.policy_loss(trajectory, act)\n",
    "        value_loss = self.value_loss(trajectory, act)\n",
    "        self.policy_loss_np = policy_loss.detach().numpy()\n",
    "        self.value_loss_np = value_loss.detach().numpy()\n",
    "        self.ppo_loss_np = self.policy_loss_np + self.value_loss_coef * self.value_loss_np\n",
    "        return policy_loss + self.value_loss_coef * value_loss\n",
    "      \n",
    "    def step(self, trajectory):\n",
    "        \"\"\" Computes the loss function and performs a single gradient step. \"\"\"\n",
    "        self.optimizer.zero_grad()\n",
    "        self.loss(trajectory).backward()\n",
    "        torch.nn.utils.clip_grad_norm_(policy.model.parameters(), self.max_grad_norm)\n",
    "        self.optimizer.step()\n",
    "        self.total_norm = 0\n",
    "        for p in policy.model.parameters():\n",
    "            param_norm = p.grad.data.norm(2)\n",
    "            self.total_norm += param_norm.item() ** 2\n",
    "        self.total_norm = self.total_norm ** (1. / 2)"
   ]
  },
  {
   "cell_type": "markdown",
   "metadata": {},
   "source": [
    "Now everything is ready to do training. In one million of interactions it should be possible to \n",
    "achieve the total raw reward of about 1500. You should plot this quantity with respect to \n",
    "`runner.step_var` &mdash; the number of interactions with the environment. It is highly \n",
    "encouraged to also provide plots of the following quantities (these are useful for debugging as well):\n",
    "\n",
    "* [Coefficient of Determination](https://en.wikipedia.org/wiki/Coefficient_of_determination) between \n",
    "value targets and value predictions\n",
    "* Entropy of the policy $\\pi$\n",
    "* Value loss\n",
    "* Policy loss\n",
    "* Value targets\n",
    "* Value predictions\n",
    "* Gradient norm\n",
    "* Advantages\n",
    "\n",
    "For optimization it is suggested to use Adam optimizer with linearly annealing learning rate \n",
    "from 3e-4 to 0 and epsilon 1e-5."
   ]
  },
  {
   "cell_type": "code",
   "execution_count": 22,
   "metadata": {},
   "outputs": [],
   "source": [
    "def evaluate(env2, agent, n_games=1, render=False):\n",
    "    \"\"\"Plays an a game from start till done, returns per-game rewards \"\"\"\n",
    "    agent.train(False)\n",
    "    game_rewards = []\n",
    "    done_counter = 0\n",
    "    for _ in range(n_games):\n",
    "        state = env.reset()\n",
    "        total_reward = 0\n",
    "        while True:\n",
    "            if render:\n",
    "                env.render()\n",
    "            state = torch.tensor(state, dtype=torch.float32)\n",
    "            (mus, sigmas), _ = agent(state)\n",
    "            dist = torch.distributions.MultivariateNormal(mus, torch.diag_embed(sigmas, 0))\n",
    "            action = dist.sample().cpu().detach().numpy()\n",
    "            state, reward, done, info = env.step(action)\n",
    "            total_reward += reward\n",
    "            if done:\n",
    "                break\n",
    "        game_rewards.append(total_reward)\n",
    "#     env.close()\n",
    "#     env.reset()\n",
    "    agent.train(True)\n",
    "    return game_rewards"
   ]
  },
  {
   "cell_type": "code",
   "execution_count": 23,
   "metadata": {},
   "outputs": [],
   "source": [
    "model = Network(shape_in=17, action_shape=6)\n",
    "policy = Policy(model)\n",
    "runner = make_ppo_runner(env, policy)\n",
    "optimizer = torch.optim.Adam(model.parameters(), lr=3e-4, eps=1e-05)"
   ]
  },
  {
   "cell_type": "code",
   "execution_count": 24,
   "metadata": {},
   "outputs": [],
   "source": [
    "from IPython.display import clear_output\n",
    "from tqdm import trange\n",
    "import matplotlib.pyplot as plt"
   ]
  },
  {
   "cell_type": "code",
   "execution_count": 25,
   "metadata": {},
   "outputs": [],
   "source": [
    "def plot_tools(legend, position, data_y):\n",
    "    plt.subplot(2,4,position)\n",
    "    plt.plot(data_y, label=legend)\n",
    "    plt.title(legend); plt.grid(); plt.legend() \n",
    "    plt.ticklabel_format(axis=\"x\", style=\"sci\", scilimits=(0,0))"
   ]
  },
  {
   "cell_type": "code",
   "execution_count": 26,
   "metadata": {
    "scrolled": false
   },
   "outputs": [],
   "source": [
    "ppo = PPO(policy, optimizer) \n",
    "num_steps = []\n",
    "current_number_of_steps = 0\n",
    "rewards = []\n",
    "value_losses = []\n",
    "policy_losses = []\n",
    "values = []\n",
    "grad_norms = []\n",
    "advantages = []\n",
    "ppo_losses = []\n",
    "\n",
    "MAX_UPDATES = 3_000_900\n",
    "i = 0\n",
    "while current_number_of_steps<=MAX_UPDATES:\n",
    "    i += 1\n",
    "    trajectory = runner.get_next()\n",
    "    ppo.step(trajectory)\n",
    "    current_number_of_steps = runner.runner.step_var\n",
    "    ppo.optimizer.param_groups[0]['lr'] = (1.0 - (current_number_of_steps - 1.0)/MAX_UPDATES)*3e-4\n",
    "    value_losses.append(ppo.values_loss_np)\n",
    "    policy_losses.append(ppo.policy_loss_np)\n",
    "    values.append(ppo.values_np)\n",
    "    grad_norms.append(ppo.total_norm)\n",
    "    advantages.append(ppo.advantages_np)\n",
    "    ppo_losses.append(ppo.ppo_loss_np)\n",
    "    if i%100==0:\n",
    "        clear_output(True)\n",
    "        num_steps.append(runner.runner.step_var)\n",
    "        \n",
    "        rewards.append(np.mean(evaluate(env2, model, n_games=5)))\n",
    "        \n",
    "        plt.figure(figsize=[20,10])\n",
    "        \n",
    "        plt.subplot(2,4,1)\n",
    "        plt.plot(num_steps, rewards, label='Reward')\n",
    "        plt.title(\"Rewards\"); plt.grid(); plt.legend()\n",
    "        plt.ticklabel_format(axis=\"x\", style=\"sci\", scilimits=(0,0))\n",
    "\n",
    "        plot_tools('Values', 2, values)\n",
    "        plot_tools('Value loss', 3, value_losses)\n",
    "        plot_tools('Policy loss', 4, policy_losses)\n",
    "        plot_tools('PPO loss', 5, ppo_losses)\n",
    "        plot_tools('Grad_norm_L2', 6, grad_norms) \n",
    "        plot_tools('Advantages', 7, advantages)\n",
    "\n",
    "        plt.show()"
   ]
  },
  {
   "cell_type": "code",
   "execution_count": 19,
   "metadata": {},
   "outputs": [
    {
     "name": "stdout",
     "output_type": "stream",
     "text": [
      "Creating window glfw\n",
      "In the end 1093.4526369867322\n"
     ]
    }
   ],
   "source": [
    "print('In the end', np.mean(evaluate(env2, model, n_games=10, render=True)))"
   ]
  },
  {
   "cell_type": "code",
   "execution_count": 20,
   "metadata": {},
   "outputs": [],
   "source": [
    "env2.close()"
   ]
  },
  {
   "cell_type": "code",
   "execution_count": 23,
   "metadata": {},
   "outputs": [
    {
     "data": {
      "text/plain": [
       "1000"
      ]
     },
     "execution_count": 23,
     "metadata": {},
     "output_type": "execute_result"
    }
   ],
   "source": [
    "env._max_episode_steps"
   ]
  },
  {
   "cell_type": "code",
   "execution_count": null,
   "metadata": {},
   "outputs": [],
   "source": []
  },
  {
   "cell_type": "code",
   "execution_count": null,
   "metadata": {},
   "outputs": [],
   "source": []
  },
  {
   "cell_type": "code",
   "execution_count": null,
   "metadata": {},
   "outputs": [],
   "source": []
  },
  {
   "cell_type": "code",
   "execution_count": null,
   "metadata": {},
   "outputs": [],
   "source": []
  }
 ],
 "metadata": {
  "kernelspec": {
   "display_name": "Python 3",
   "language": "python",
   "name": "python3"
  },
  "language_info": {
   "codemirror_mode": {
    "name": "ipython",
    "version": 3
   },
   "file_extension": ".py",
   "mimetype": "text/x-python",
   "name": "python",
   "nbconvert_exporter": "python",
   "pygments_lexer": "ipython3",
   "version": "3.10.9"
  }
 },
 "nbformat": 4,
 "nbformat_minor": 2
}
