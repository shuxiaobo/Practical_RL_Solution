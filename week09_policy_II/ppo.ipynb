{
 "cells": [
  {
   "cell_type": "code",
   "execution_count": 1,
   "metadata": {
    "colab": {
     "base_uri": "https://localhost:8080/"
    },
    "id": "j9dfWABRNCVm",
    "outputId": "ee8f0e74-ab77-4b9e-ff10-05d4e7a0930b"
   },
   "outputs": [],
   "source": [
    "import sys, os\n",
    "if 'google.colab' in sys.modules and not os.path.exists('.setup_complete'):\n",
    "    !wget -q https://raw.githubusercontent.com/yandexdataschool/Practical_RL/master/setup_colab.sh -O- | bash\n",
    "\n",
    "    !wget -q https://raw.githubusercontent.com/yandexdataschool/Practical_RL/master/week09_policy_II/mujoco_wrappers.py\n",
    "    \n",
    "    !touch .setup_complete\n",
    "\n",
    "# This code creates a virtual display to draw game images on.\n",
    "# It will have no effect if your machine has a monitor.\n",
    "if type(os.environ.get(\"DISPLAY\")) is not str or len(os.environ.get(\"DISPLAY\")) == 0:\n",
    "    !bash ../xvfb start\n",
    "    os.environ['DISPLAY'] = ':1'"
   ]
  },
  {
   "cell_type": "markdown",
   "metadata": {
    "id": "WI0kqjVINCVt"
   },
   "source": [
    "# Implementing Proximal Policy Optimization \n",
    "\n",
    "\n",
    "In this notebook you will be implementing Proximal Policy Optimization algorithm, \n",
    "scaled up version of which was used to train [OpenAI Five](https://openai.com/blog/openai-five/) \n",
    "to [win](https://openai.com/blog/how-to-train-your-openai-five/) against the\n",
    "world champions in Dota 2.\n",
    "You will be solving a continuous control environment on which it may be easier and faster \n",
    "to train an agent, however note that PPO here may not be the best algorithm as, for example,\n",
    "Deep Deterministic Policy Gradient and Soft Actor Critic may be more suited \n",
    "for continuous control environments. To run the environment you will need to install \n",
    "[pybullet-gym](https://github.com/benelot/pybullet-gym) which unlike MuJoCo \n",
    "does not require you to have a license.\n",
    "\n",
    "To install the library:"
   ]
  },
  {
   "cell_type": "code",
   "execution_count": 2,
   "metadata": {
    "colab": {
     "base_uri": "https://localhost:8080/"
    },
    "id": "31MBortONCVv",
    "outputId": "13ea5dac-6194-497a-8ca3-d7bde217798c"
   },
   "outputs": [
    {
     "name": "stdout",
     "output_type": "stream",
     "text": [
      "fatal: destination path 'lib/pybullet-gym' already exists and is not an empty directory.\n",
      "Looking in indexes: https://pypi.tuna.tsinghua.edu.cn/simple\n",
      "Obtaining file:///home/shane/Desktop/Practical_RL-master/week09_policy_II/lib/pybullet-gym\n",
      "  Preparing metadata (setup.py) ... \u001b[?25ldone\n",
      "\u001b[?25hRequirement already satisfied: pybullet>=1.7.8 in /home/shane/miniconda3/lib/python3.10/site-packages (from pybulletgym==0.1) (3.2.5)\n",
      "Installing collected packages: pybulletgym\n",
      "  Attempting uninstall: pybulletgym\n",
      "    Found existing installation: pybulletgym 0.1\n",
      "    Uninstalling pybulletgym-0.1:\n",
      "      Successfully uninstalled pybulletgym-0.1\n",
      "  Running setup.py develop for pybulletgym\n",
      "Successfully installed pybulletgym-0.1\n"
     ]
    }
   ],
   "source": [
    "!git clone https://github.com/benelot/pybullet-gym lib/pybullet-gym\n",
    "!pip3 install -e lib/pybullet-gym"
   ]
  },
  {
   "cell_type": "code",
   "execution_count": 6,
   "metadata": {
    "id": "MZeKC7aO4RIC"
   },
   "outputs": [],
   "source": [
    "from tqdm import tqdm\n",
    "from sklearn.metrics import r2_score"
   ]
  },
  {
   "cell_type": "markdown",
   "metadata": {
    "id": "Iod_fZUFNCVw"
   },
   "source": [
    "The overall structure of the code is similar to the one in the A2C optional homework, but don't worry if you haven't done it, it should be relatively easy to figure it out. \n",
    "First, we will create an instance of the environment. \n",
    "We will normalize the observations and rewards, but before that you will need a wrapper that will \n",
    "write summaries, mainly, the total reward during an episode. You can either use one for `TensorFlow` \n",
    "implemented in `atari_wrappers.py` file from the optional A2C homework, or implement your own. "
   ]
  },
  {
   "cell_type": "code",
   "execution_count": 7,
   "metadata": {
    "colab": {
     "base_uri": "https://localhost:8080/"
    },
    "id": "Y2N76WIRNCVx",
    "outputId": "b23c69ce-eedb-4043-9f8c-1d89eec416a8"
   },
   "outputs": [
    {
     "name": "stdout",
     "output_type": "stream",
     "text": [
      "WalkerBase::__init__\n",
      "argv[0]=\n",
      "observation space:  Box(17,) \n",
      "observations: [ 0.08605614  0.06738601 -0.06014625 -0.06763116  0.01089592 -0.0562597\n",
      "  0.0297224   0.06977586  0.          0.          0.          0.\n",
      "  0.          0.          0.          0.          0.        ]\n",
      "action space:  Box(6,) \n",
      "action_sample:  [ 0.37330648  0.7453406  -0.13949081  0.02096385  0.3200091   0.40771717]\n"
     ]
    },
    {
     "name": "stderr",
     "output_type": "stream",
     "text": [
      "pybullet build time: Jul 24 2023 20:20:51\n"
     ]
    },
    {
     "name": "stdout",
     "output_type": "stream",
     "text": [
      "argv[0]=\n"
     ]
    }
   ],
   "source": [
    "import gym \n",
    "import pybulletgym\n",
    "\n",
    "env = gym.make(\"HalfCheetahMuJoCoEnv-v0\")\n",
    "print(\"observation space: \", env.observation_space,\n",
    "      \"\\nobservations:\", env.reset())\n",
    "print(\"action space: \", env.action_space, \n",
    "      \"\\naction_sample: \", env.action_space.sample())\n"
   ]
  },
  {
   "cell_type": "code",
   "execution_count": 8,
   "metadata": {},
   "outputs": [
    {
     "name": "stdout",
     "output_type": "stream",
     "text": [
      "WalkerBase::__init__\n"
     ]
    }
   ],
   "source": [
    "env2 = gym.make(\"HalfCheetahMuJoCoEnv-v0\")"
   ]
  },
  {
   "cell_type": "code",
   "execution_count": 9,
   "metadata": {
    "id": "_au8nSY479qw"
   },
   "outputs": [],
   "source": [
    "import numpy as np\n",
    "\n",
    "class Summaries(gym.Wrapper):\n",
    "    \"\"\" Wrapper to write summaries. \"\"\"\n",
    "    def __init__(self, env):\n",
    "        super().__init__(env)\n",
    "        self.episode_counter = 0\n",
    "        self.current_step_var = 0\n",
    "\n",
    "        self.episode_rewards = []\n",
    "        self.episode_lens = []\n",
    "\n",
    "        self.current_reward = 0\n",
    "        self.current_len = 0\n",
    "\n",
    "    def step(self, action):\n",
    "        obs, rew, done, info = self.env.step(action)\n",
    "\n",
    "        self.current_reward += rew\n",
    "        self.current_len += 1\n",
    "        self.current_step_var += 1\n",
    "\n",
    "        if done:\n",
    "            self.episode_rewards.append((self.current_step_var, self.current_reward))\n",
    "            self.episode_lens.append((self.current_step_var, self.current_len))\n",
    "\n",
    "        return obs, rew, done, info\n",
    "\n",
    "    def reset(self, **kwargs):\n",
    "        self.episode_counter += 1\n",
    "\n",
    "        self.current_reward = 0\n",
    "        self.current_len = 0\n",
    "\n",
    "        return self.env.reset(**kwargs)"
   ]
  },
  {
   "cell_type": "markdown",
   "metadata": {
    "id": "JVom_S9yNCVz"
   },
   "source": [
    "The normalization wrapper will subtract running mean from observations and rewards and divide \n",
    "the resulting quantities by the  running variances."
   ]
  },
  {
   "cell_type": "code",
   "execution_count": 10,
   "metadata": {
    "colab": {
     "base_uri": "https://localhost:8080/"
    },
    "id": "lxevKC-FNCVz",
    "outputId": "11bcf7dd-b04c-47c8-c8e0-ca8724aee842"
   },
   "outputs": [
    {
     "name": "stdout",
     "output_type": "stream",
     "text": [
      "WalkerBase::__init__\n"
     ]
    }
   ],
   "source": [
    "from mujoco_wrappers import Normalize\n",
    "\n",
    "env = Normalize(Summaries(gym.make(\"HalfCheetahMuJoCoEnv-v0\")));\n",
    "env.unwrapped.seed(0);"
   ]
  },
  {
   "cell_type": "markdown",
   "metadata": {
    "id": "_9lf2Z8bNCV0"
   },
   "source": [
    "Next, you will need to define a model for training. We suggest that you use two separate networks: one for policy\n",
    "and another for value function. Each network should be a 3-layer MLP with 64 hidden units, $\\mathrm{tanh}$ \n",
    "activation function.\n",
    "\n",
    "Our policy distribution is going to be multivariate normal with diagonal covariance. \n",
    "The network from above will predict the mean, and the covariance should be represented by a single \n",
    "(learned) vector of size 6 (corresponding to the dimensionality of the action space from above). Or you can also predict the variance using your model. You should take the exponent of that values to always have a non-negative quantity. \n",
    "\n",
    "Overall the model should return three things: predicted mean of the distribution, variance vector, \n",
    "value function. "
   ]
  },
  {
   "cell_type": "code",
   "execution_count": 11,
   "metadata": {
    "id": "OwwLcUApNCV0"
   },
   "outputs": [],
   "source": [
    "# import tensorflow as tf\n",
    "import torch\n",
    "\n",
    "from torch import nn\n",
    "from torch.nn import functional as F\n",
    "import torch\n",
    "\n",
    "def layer_init(layer, std=np.sqrt(2), bias_const=0.0):\n",
    "    torch.nn.init.orthogonal_(layer.weight, std)\n",
    "    torch.nn.init.constant_(layer.bias, bias_const)\n",
    "    return layer\n",
    "\n",
    "class PolicyNetwork(nn.Module):\n",
    "    \n",
    "    def __init__(self, shape_in, action_shape, hidden_size=64):\n",
    "        super(PolicyNetwork, self).__init__()\n",
    "        self.dense1 = layer_init(nn.Linear(shape_in, hidden_size))\n",
    "        self.dense2 = layer_init(nn.Linear(hidden_size, hidden_size))\n",
    "        self.dense3_mu = layer_init(nn.Linear(hidden_size, action_shape), std=0.01)\n",
    "        self.dense3_std = layer_init(nn.Linear(hidden_size, action_shape), std=0.0)\n",
    "        \n",
    "    def forward(self, inputs):\n",
    "        hid = torch.tanh(self.dense2(torch.tanh(self.dense1(inputs))))\n",
    "        mu = self.dense3_mu(hid)\n",
    "        sigma = torch.exp(self.dense3_std(hid))\n",
    "        return mu, sigma\n",
    "\n",
    "class ValueNetwork(nn.Module):\n",
    "    \n",
    "    def __init__(self, shape_in, hidden_size=64):\n",
    "        super(ValueNetwork, self).__init__()\n",
    "        self.dense1 = layer_init(nn.Linear(shape_in, hidden_size))\n",
    "        self.dense2 = layer_init(nn.Linear(hidden_size, hidden_size))\n",
    "        self.dense3 = layer_init(nn.Linear(hidden_size, 1), std =1.0)\n",
    "    def forward(self, inputs):\n",
    "        hid = torch.tanh(self.dense2(torch.tanh(self.dense1(inputs))))\n",
    "        return self.dense3(hid)\n",
    "\n",
    "\n",
    "class PolicyModel(nn. Module):\n",
    "    def __init__(self, shape_in=17, action_shape=6, hidden_size=64):\n",
    "        super(PolicyModel, self).__init__()\n",
    "        self.h = 64\n",
    "        hidden_size = self.h\n",
    "\n",
    "        self.policy_model = PolicyNetwork(shape_in, action_shape, hidden_size) # < Create your model >\n",
    "\n",
    "        self.value_model = ValueNetwork(shape_in, hidden_size) # < Create your model >\n",
    "\n",
    "    def get_policy(self, x):\n",
    "        # < insert your code here >\n",
    "        means, var = self.policy_model(x.float())\n",
    "        return means, var\n",
    "\n",
    "    def get_value(self, x):\n",
    "        out = self.value_model(x.float())\n",
    "        return out\n",
    "\n",
    "    def forward(self, x):\n",
    "        policy = self.get_policy(x)\n",
    "        value = self.get_value(x)\n",
    "\n",
    "        return policy, value"
   ]
  },
  {
   "cell_type": "markdown",
   "metadata": {
    "id": "YI6d9Xq_NCV1"
   },
   "source": [
    "This model will be wrapped by a `Policy`. The policy can work in two modes, but in either case \n",
    "it is going to return dictionary with string-type keys. The first mode is when the policy is \n",
    "used to sample actions for a trajectory which will later be used for training. In this case \n",
    "the flag `training` passed to `act` method is `False` and the method should return \n",
    "a `dict` with the following keys: \n",
    "\n",
    "* `\"actions\"`: actions to pass to the environment\n",
    "* `\"log_probs\"`: log-probabilities of sampled actions\n",
    "* `\"values\"`: value function $V^\\pi(s)$ predictions.\n",
    "\n",
    "We don't need to use the values under these keys for training, so all of them should be of type `np.ndarray`.\n",
    "\n",
    "When `training` is `True`, the model is training on a given batch of observations. In this\n",
    "case it should return a `dict` with the following keys\n",
    "\n",
    "* `\"distribution\"`: an instance of multivariate normal distribution (`torch.distributions.MultivariateNormal` or `tf.distributions.MultivariateNormalDiag`)\n",
    "* `\"values\"`: value function $V^\\pi(s)$ prediction.\n",
    "\n",
    "The distinction about the modes comes into play depending on where the policy is used: if it is called from `EnvRunner`, \n",
    "the `training` flag is `False`, if it is called from `PPO`, the `training` flag is `True`. These classed \n",
    "will be described below. "
   ]
  },
  {
   "cell_type": "code",
   "execution_count": 12,
   "metadata": {
    "id": "C54tGZahXbSa"
   },
   "outputs": [],
   "source": [
    "from torch.distributions.normal import Normal\n",
    "from torch.distributions.multivariate_normal import MultivariateNormal\n",
    "\n",
    "class Policy:\n",
    "    def __init__(self, model):\n",
    "        self.model = model\n",
    "        self.model.cuda()\n",
    "    def act(self, inputs, training=False):\n",
    "        inputs = torch.tensor(inputs)\n",
    "        if inputs.ndim < 2:\n",
    "            inputs = inputs.unsqueeze(0)\n",
    "        inputs = inputs.cuda()\n",
    "        \n",
    "        batch_size = inputs.shape[0]\n",
    "\n",
    "        # < insert your code here >\n",
    "        means, var = self.model.get_policy(inputs)\n",
    "        covar_matrix = torch.diag_embed(var)\n",
    "        normal_distr = MultivariateNormal(means, covar_matrix)\n",
    "\n",
    "        actions = normal_distr.sample()\n",
    "        log_probs = normal_distr.log_prob(actions)\n",
    "\n",
    "        values = self.model.get_value(inputs)\n",
    "\n",
    "        if not training:\n",
    "            return {'actions': actions.cpu().numpy().tolist()[0], \n",
    "                    'log_probs': log_probs[0].detach().cpu().numpy(),\n",
    "                    'values': values[0].detach().cpu().numpy()}\n",
    "        else:\n",
    "            return {'distribution': normal_distr, 'values': values}"
   ]
  },
  {
   "cell_type": "markdown",
   "metadata": {
    "id": "-kML-jSsNCV2"
   },
   "source": [
    "We will use `EnvRunner` to perform interactions with an environment with a policy for a fixed number of timesteps. Calling `.get_next()` on a runner will return a trajectory &mdash; dictionary \n",
    "containing keys\n",
    "\n",
    "* `\"observations\"`\n",
    "* `\"rewards\"` \n",
    "* `\"resets\"`\n",
    "* `\"actions\"`\n",
    "* all other keys that you defined in `Policy`,\n",
    "\n",
    "under each of these keys there is a `np.ndarray` of specified length $T$ &mdash; the size of partial trajectory. \n",
    "\n",
    "Additionally, before returning a trajectory this runner can apply a list of transformations. \n",
    "Each transformation is simply a callable that should modify passed trajectory in-place."
   ]
  },
  {
   "cell_type": "code",
   "execution_count": 13,
   "metadata": {
    "id": "5LeiuohcNCV3"
   },
   "outputs": [],
   "source": [
    "class AsArray:\n",
    "    \"\"\" \n",
    "    Converts lists of interactions to ndarray.\n",
    "    \"\"\"\n",
    "    def __call__(self, trajectory):\n",
    "        # Modify trajectory inplace. \n",
    "        for k, v in filter(lambda kv: kv[0] != \"state\", trajectory.items()):\n",
    "            trajectory[k] = np.asarray(v)"
   ]
  },
  {
   "cell_type": "code",
   "execution_count": 14,
   "metadata": {},
   "outputs": [],
   "source": [
    "\"\"\" RL env runner \"\"\"\n",
    "from collections import defaultdict\n",
    "\n",
    "import numpy as np\n",
    "\n",
    "\n",
    "class EnvRunner:\n",
    "    \"\"\" Reinforcement learning runner in an environment with given policy \"\"\"\n",
    "\n",
    "    def __init__(self, env, policy, nsteps, transforms=None, step_var=None):\n",
    "        self.env = env\n",
    "        self.policy = policy\n",
    "        self.nsteps = nsteps\n",
    "        self.transforms = transforms or []\n",
    "        self.step_var = step_var if step_var is not None else 0\n",
    "        self.state = {\"latest_observation\": self.env.reset()}\n",
    "\n",
    "    @property\n",
    "    def nenvs(self):\n",
    "        \"\"\" Returns number of batched envs or `None` if env is not batched \"\"\"\n",
    "        return getattr(self.env.unwrapped, \"nenvs\", None)\n",
    "\n",
    "    def reset(self):\n",
    "        \"\"\" Resets env and runner states. \"\"\"\n",
    "        self.state[\"latest_observation\"] = self.env.reset()\n",
    "        self.policy.reset()\n",
    "\n",
    "    def get_next(self):\n",
    "        \"\"\" Runs the agent in the environment.  \"\"\"\n",
    "        trajectory = defaultdict(list, {\"actions\": []})\n",
    "        observations = []\n",
    "        rewards = []\n",
    "        resets = []\n",
    "        self.state[\"env_steps\"] = self.nsteps\n",
    "\n",
    "        for i in range(self.nsteps):\n",
    "            observations.append(self.state[\"latest_observation\"])\n",
    "            act = self.policy.act(self.state[\"latest_observation\"])\n",
    "            if \"actions\" not in act:\n",
    "                raise ValueError(\"result of policy.act must contain 'actions' \"\n",
    "                                 f\"but has keys {list(act.keys())}\")\n",
    "            for key, val in act.items():\n",
    "                trajectory[key].append(val)\n",
    "\n",
    "            obs, rew, done, _ = self.env.step(trajectory[\"actions\"][-1])\n",
    "            self.state[\"latest_observation\"] = obs\n",
    "            rewards.append(rew)\n",
    "            resets.append(done)\n",
    "            self.step_var += self.nenvs or 1\n",
    "\n",
    "            # Only reset if the env is not batched. Batched envs should\n",
    "            # auto-reset.\n",
    "            if not self.nenvs and np.all(done):\n",
    "                self.state[\"env_steps\"] = i + 1\n",
    "                self.state[\"latest_observation\"] = self.env.reset()\n",
    "\n",
    "        trajectory.update(\n",
    "            observations=observations,\n",
    "            rewards=rewards,\n",
    "            resets=resets)\n",
    "        trajectory[\"state\"] = self.state\n",
    "\n",
    "        for transform in self.transforms:\n",
    "            transform(trajectory)\n",
    "        return trajectory"
   ]
  },
  {
   "cell_type": "code",
   "execution_count": 15,
   "metadata": {
    "colab": {
     "base_uri": "https://localhost:8080/"
    },
    "id": "wNzPNxKLNCV4",
    "outputId": "e15b29e7-1864-45db-e67a-3f1994b77a81"
   },
   "outputs": [
    {
     "name": "stdout",
     "output_type": "stream",
     "text": [
      "argv[0]=\n",
      "argv[0]=\n"
     ]
    },
    {
     "data": {
      "text/plain": [
       "{'actions': (3, 6),\n",
       " 'values': (3,),\n",
       " 'observations': (3, 17),\n",
       " 'rewards': (3,),\n",
       " 'resets': (3,)}"
      ]
     },
     "execution_count": 15,
     "metadata": {},
     "output_type": "execute_result"
    }
   ],
   "source": [
    "import numpy as np\n",
    "\n",
    "class DummyPolicy:\n",
    "    def act(self, inputs, training=False):\n",
    "        assert not training\n",
    "        return {\"actions\": np.random.randn(6), \"values\": np.nan}\n",
    "\n",
    "runner = EnvRunner(env, DummyPolicy(), 3,\n",
    "                   transforms=[AsArray()])\n",
    "trajectory = runner.get_next()\n",
    "\n",
    "{k: v.shape for k, v in trajectory.items() if k != \"state\"}"
   ]
  },
  {
   "cell_type": "markdown",
   "metadata": {
    "id": "NyhcvAMZNCV5"
   },
   "source": [
    "You will need to implement the following two transformations. \n",
    "\n",
    "The first is `GAE` that implements [Generalized Advantage Estimator](https://arxiv.org/abs/1506.02438).\n",
    "In it you should add two keys to the trajectory: `\"advantages\"` and `\"value_targets\"`. In GAE the advantages\n",
    "$A_t^{\\mathrm{GAE}(\\gamma,\\lambda)}$ are essentially defined as the exponential \n",
    "moving average with parameter $\\lambda$ of the regular advantages \n",
    "$\\hat{A}^{(T)}(s_t) = \\sum_{l=0}^{T-1-t} \\gamma^l r_{t+l} + \\gamma^{T} V^\\pi(s_{T}) - V^\\pi(s_t)$. \n",
    "The exact formula for the computation is the following\n",
    "\n",
    "$$\n",
    "A_{t}^{\\mathrm{GAE}(\\gamma,\\lambda)} = \\sum_{l=0}^{T-1-t} (\\gamma\\lambda)^l\\delta_{t + l}^V, \\, t \\in [0, T)\n",
    "$$\n",
    "where $\\delta_{t+l}^V = r_{t+l} + \\gamma V^\\pi(s_{t+l+1}) - V^\\pi(s_{t+l})$. You can look at the \n",
    "derivation (formulas 11-16) in the paper. Don't forget to reset the summation on terminal\n",
    "states as determined by the flags `trajectory[\"resets\"]`. You can use `trajectory[\"values\"]`\n",
    "to get values of all observations except the most recent which is stored under \n",
    " `trajectory[\"state\"][\"latest_observation\"]`. For this observation you will need to call the policy \n",
    " to get the value prediction.\n",
    "\n",
    "Once you computed the advantages, you can get the targets for training the value function by adding \n",
    "back values:\n",
    "$$\n",
    "\\hat{V}(s_{t+l}) = A_{t+l}^{\\mathrm{GAE}(\\gamma,\\lambda)} + V(s_{t + l})\n",
    "$$\n",
    "where $\\hat{V}$ is a tensor of value targets that are used to train the value function. \n",
    "\n",
    "why do we need to add back values? \n",
    "\n",
    "because we want to train the value function to predict the sum of discounted rewards"
   ]
  },
  {
   "cell_type": "code",
   "execution_count": 16,
   "metadata": {
    "id": "AC5rUuiKNCV6"
   },
   "outputs": [],
   "source": [
    "import os\n",
    "class GAE:\n",
    "    \"\"\" Generalized Advantage Estimator. \"\"\"\n",
    "    def __init__(self, policy, gamma=0.99, lambda_=0.95):\n",
    "        self.policy = policy\n",
    "        self.gamma = gamma\n",
    "        self.lambda_ = lambda_\n",
    "\n",
    "    def __call__(self, trajectory):\n",
    "        \"\"\"\n",
    "        return GAE advantages for the trajectory\n",
    "        \"\"\"\n",
    "        gamma = self.gamma\n",
    "        lambda_ = self.lambda_\n",
    "        value_target = self.policy.act(trajectory['state']['latest_observation'])['values'][0]\n",
    "        env_steps = trajectory['state']['env_steps']\n",
    "        rewards = torch.tensor(trajectory['rewards'], dtype=torch.float32)\n",
    "        dones = torch.tensor(trajectory['resets'], dtype=torch.float32)\n",
    "        is_not_done = 1 - dones\n",
    "        trajectory['values'] = torch.tensor(trajectory['values'],dtype=torch.float32)\n",
    "        trajectory['advantages'] = []\n",
    "        trajectory['value_targets'] = []\n",
    "        gae = 0\n",
    "        for step in reversed(range(env_steps)):\n",
    "            if step==env_steps - 1:\n",
    "                delta = rewards[step] + self.gamma * value_target * is_not_done[step] - trajectory['values'][step]\n",
    "            else:\n",
    "                delta = rewards[step] + self.gamma * trajectory['values'][step + 1] * is_not_done[step] - trajectory['values'][step]\n",
    "            \n",
    "            gae = delta + self.gamma * self.lambda_ * is_not_done[step] * gae\n",
    "            trajectory['advantages'].insert(0, gae)\n",
    "            trajectory['value_targets'].insert(0, gae + trajectory['values'][step])\n",
    "        trajectory['advantages'] = torch.tensor(trajectory['advantages'], dtype=torch.float32)\n",
    "        trajectory['value_targets'] = torch.tensor(trajectory['value_targets'], dtype=torch.float32)"
   ]
  },
  {
   "cell_type": "code",
   "execution_count": 17,
   "metadata": {},
   "outputs": [
    {
     "ename": "ValueError",
     "evalue": "not enough values to unpack (expected 2, got 1)",
     "output_type": "error",
     "traceback": [
      "\u001b[0;31m---------------------------------------------------------------------------\u001b[0m",
      "\u001b[0;31mValueError\u001b[0m                                Traceback (most recent call last)",
      "Cell \u001b[0;32mIn[17], line 28\u001b[0m\n\u001b[1;32m     25\u001b[0m         \u001b[39massert\u001b[39;00m np\u001b[39m.\u001b[39mallclose(np\u001b[39m.\u001b[39mload(\u001b[39mf\u001b[39m\u001b[39m'\u001b[39m\u001b[39mtest_ppo/\u001b[39m\u001b[39m{\u001b[39;00mkey\u001b[39m}\u001b[39;00m\u001b[39m.npy\u001b[39m\u001b[39m'\u001b[39m), trajectory[key], atol\u001b[39m=\u001b[39m\u001b[39m2e-2\u001b[39m)\n\u001b[1;32m     27\u001b[0m     \u001b[39mprint\u001b[39m(\u001b[39m\"\u001b[39m\u001b[39mIt\u001b[39m\u001b[39m'\u001b[39m\u001b[39ms all good!\u001b[39m\u001b[39m\"\u001b[39m)\n\u001b[0;32m---> 28\u001b[0m test_gae()\n",
      "Cell \u001b[0;32mIn[17], line 22\u001b[0m, in \u001b[0;36mtest_gae\u001b[0;34m()\u001b[0m\n\u001b[1;32m     19\u001b[0m policy\u001b[39m.\u001b[39mmodel\u001b[39m.\u001b[39mcuda()\n\u001b[1;32m     20\u001b[0m gae_to_test \u001b[39m=\u001b[39m GAE(policy, gamma\u001b[39m=\u001b[39m\u001b[39m0.99\u001b[39m, lambda_\u001b[39m=\u001b[39m\u001b[39m0.95\u001b[39m)\n\u001b[0;32m---> 22\u001b[0m gae_to_test(trajectory)\n\u001b[1;32m     24\u001b[0m \u001b[39mfor\u001b[39;00m key \u001b[39min\u001b[39;00m [\u001b[39m'\u001b[39m\u001b[39madvantages\u001b[39m\u001b[39m'\u001b[39m, \u001b[39m'\u001b[39m\u001b[39mvalue_targets\u001b[39m\u001b[39m'\u001b[39m]:\n\u001b[1;32m     25\u001b[0m     \u001b[39massert\u001b[39;00m np\u001b[39m.\u001b[39mallclose(np\u001b[39m.\u001b[39mload(\u001b[39mf\u001b[39m\u001b[39m'\u001b[39m\u001b[39mtest_ppo/\u001b[39m\u001b[39m{\u001b[39;00mkey\u001b[39m}\u001b[39;00m\u001b[39m.npy\u001b[39m\u001b[39m'\u001b[39m), trajectory[key], atol\u001b[39m=\u001b[39m\u001b[39m2e-2\u001b[39m)\n",
      "Cell \u001b[0;32mIn[16], line 15\u001b[0m, in \u001b[0;36mGAE.__call__\u001b[0;34m(self, trajectory)\u001b[0m\n\u001b[1;32m     13\u001b[0m gamma \u001b[39m=\u001b[39m \u001b[39mself\u001b[39m\u001b[39m.\u001b[39mgamma\n\u001b[1;32m     14\u001b[0m lambda_ \u001b[39m=\u001b[39m \u001b[39mself\u001b[39m\u001b[39m.\u001b[39mlambda_\n\u001b[0;32m---> 15\u001b[0m value_target \u001b[39m=\u001b[39m \u001b[39mself\u001b[39;49m\u001b[39m.\u001b[39;49mpolicy\u001b[39m.\u001b[39;49mact(trajectory[\u001b[39m'\u001b[39;49m\u001b[39mstate\u001b[39;49m\u001b[39m'\u001b[39;49m][\u001b[39m'\u001b[39;49m\u001b[39mlatest_observation\u001b[39;49m\u001b[39m'\u001b[39;49m])[\u001b[39m'\u001b[39m\u001b[39mvalues\u001b[39m\u001b[39m'\u001b[39m][\u001b[39m0\u001b[39m]\n\u001b[1;32m     16\u001b[0m env_steps \u001b[39m=\u001b[39m trajectory[\u001b[39m'\u001b[39m\u001b[39mstate\u001b[39m\u001b[39m'\u001b[39m][\u001b[39m'\u001b[39m\u001b[39menv_steps\u001b[39m\u001b[39m'\u001b[39m]\n\u001b[1;32m     17\u001b[0m rewards \u001b[39m=\u001b[39m torch\u001b[39m.\u001b[39mtensor(trajectory[\u001b[39m'\u001b[39m\u001b[39mrewards\u001b[39m\u001b[39m'\u001b[39m], dtype\u001b[39m=\u001b[39mtorch\u001b[39m.\u001b[39mfloat32)\n",
      "Cell \u001b[0;32mIn[12], line 17\u001b[0m, in \u001b[0;36mPolicy.act\u001b[0;34m(self, inputs, training)\u001b[0m\n\u001b[1;32m     14\u001b[0m batch_size \u001b[39m=\u001b[39m inputs\u001b[39m.\u001b[39mshape[\u001b[39m0\u001b[39m]\n\u001b[1;32m     16\u001b[0m \u001b[39m# < insert your code here >\u001b[39;00m\n\u001b[0;32m---> 17\u001b[0m means, var \u001b[39m=\u001b[39m \u001b[39mself\u001b[39;49m\u001b[39m.\u001b[39;49mmodel\u001b[39m.\u001b[39;49mget_policy(inputs)\n\u001b[1;32m     18\u001b[0m covar_matrix \u001b[39m=\u001b[39m torch\u001b[39m.\u001b[39mdiag_embed(var)\n\u001b[1;32m     19\u001b[0m normal_distr \u001b[39m=\u001b[39m MultivariateNormal(means, covar_matrix)\n",
      "Cell \u001b[0;32mIn[11], line 52\u001b[0m, in \u001b[0;36mPolicyModel.get_policy\u001b[0;34m(self, x)\u001b[0m\n\u001b[1;32m     50\u001b[0m \u001b[39mdef\u001b[39;00m \u001b[39mget_policy\u001b[39m(\u001b[39mself\u001b[39m, x):\n\u001b[1;32m     51\u001b[0m     \u001b[39m# < insert your code here >\u001b[39;00m\n\u001b[0;32m---> 52\u001b[0m     means, var \u001b[39m=\u001b[39m \u001b[39mself\u001b[39m\u001b[39m.\u001b[39mpolicy_model(x\u001b[39m.\u001b[39mfloat())\n\u001b[1;32m     53\u001b[0m     \u001b[39mreturn\u001b[39;00m means, var\n",
      "\u001b[0;31mValueError\u001b[0m: not enough values to unpack (expected 2, got 1)"
     ]
    }
   ],
   "source": [
    "def test_gae():\n",
    "    # !curl -O https://raw.githubusercontent.com/yandexdataschool/Practical_RL/master/week09_policy_II/test_ppo/actions.npy\n",
    "    # !curl -O https://raw.githubusercontent.com/yandexdataschool/Practical_RL/master/week09_policy_II/test_ppo/log_probs.npy\n",
    "    # !curl -O https://raw.githubusercontent.com/yandexdataschool/Practical_RL/master/week09_policy_II/test_ppo/values.npy\n",
    "    # !curl -O https://raw.githubusercontent.com/yandexdataschool/Practical_RL/master/week09_policy_II/test_ppo/observations.npy\n",
    "    # !curl -O https://raw.githubusercontent.com/yandexdataschool/Practical_RL/master/week09_policy_II/test_ppo/rewards.npy\n",
    "    # !curl -O https://raw.githubusercontent.com/yandexdataschool/Practical_RL/master/week09_policy_II/test_ppo/resets.npy\n",
    "    # !curl -O https://raw.githubusercontent.com/yandexdataschool/Practical_RL/master/week09_policy_II/test_ppo/state.npy\n",
    "    # !curl -O https://raw.githubusercontent.com/yandexdataschool/Practical_RL/master/week09_policy_II/test_ppo/advantages.npy\n",
    "    # !curl -O https://raw.githubusercontent.com/yandexdataschool/Practical_RL/master/week09_policy_II/test_ppo/value_targets.npy\n",
    "    # !curl -O https://raw.githubusercontent.com/yandexdataschool/Practical_RL/master/week09_policy_II/test_ppo/policy\n",
    "\n",
    "    trajectory = {}\n",
    "    for key in ['actions', 'log_probs', 'values', 'observations', 'rewards', 'resets']:\n",
    "        trajectory[key] = np.load(f'test_ppo/{key}.npy', allow_pickle=True)\n",
    "    trajectory['state'] = {\"latest_observation\": np.load('test_ppo/state.npy')}\n",
    "    \n",
    "    policy = torch.load(f'test_ppo/policy')\n",
    "    policy.model.cuda()\n",
    "    gae_to_test = GAE(policy, gamma=0.99, lambda_=0.95)\n",
    "    \n",
    "    gae_to_test(trajectory)\n",
    "    \n",
    "    for key in ['advantages', 'value_targets']:\n",
    "        assert np.allclose(np.load(f'test_ppo/{key}.npy'), trajectory[key], atol=2e-2)\n",
    "    \n",
    "    print(\"It's all good!\")\n",
    "test_gae()"
   ]
  },
  {
   "cell_type": "markdown",
   "metadata": {
    "id": "yce0A8x7NCV7"
   },
   "source": [
    "The main advantage of PPO over simpler policy based methods like A2C is that it is possible\n",
    "to train on the same trajectory for multiple gradient steps. The following class wraps \n",
    "an `EnvRunner`. It should call the runner to get a trajectory, then return minibatches \n",
    "from it for a number of epochs, shuffling the data before each epoch."
   ]
  },
  {
   "cell_type": "code",
   "execution_count": 18,
   "metadata": {
    "id": "J7tIjwbkNCV8"
   },
   "outputs": [],
   "source": [
    "class TrajectorySampler:\n",
    "    \"\"\" Samples minibatches from trajectory for a number of epochs. \"\"\"\n",
    "    def __init__(self, runner, num_epochs, num_minibatches, transforms=None):\n",
    "        self.runner = runner\n",
    "        self.num_epochs = num_epochs\n",
    "        self.num_minibatches = num_minibatches\n",
    "        self.transforms = transforms or []\n",
    "        self.minibatch_count = 0\n",
    "        self.epoch_count = 0\n",
    "        self.trajectory = None\n",
    "\n",
    "    def shuffle_trajectory(self):\n",
    "        \"\"\" Shuffles all elements in trajectory.\n",
    "\n",
    "        Should be called at the beginning of each epoch.\n",
    "        \"\"\"\n",
    "        return\n",
    "        trajectory_len = self.trajectory[\"observations\"].shape[0]\n",
    "        print(self.trajectory[\"observations\"].shape)\n",
    "\n",
    "        permutation = np.random.permutation(trajectory_len)\n",
    "        for key, value in self.trajectory.items():\n",
    "            if key != 'state':\n",
    "                self.trajectory[key] = value[permutation]\n",
    "\n",
    "    def get_next(self):\n",
    "        \"\"\" Returns next minibatch. \"\"\"\n",
    "        if not self.trajectory:\n",
    "            self.trajectory = self.runner.get_next()\n",
    "\n",
    "        if self.minibatch_count == self.num_minibatches:\n",
    "            self.shuffle_trajectory()\n",
    "            self.minibatch_count = 0\n",
    "            self.epoch_count += 1\n",
    "\n",
    "        if self.epoch_count == self.num_epochs:\n",
    "            self.trajectory = self.runner.get_next()\n",
    "\n",
    "            self.shuffle_trajectory()\n",
    "            self.minibatch_count = 0\n",
    "            self.epoch_count = 0\n",
    "\n",
    "        trajectory_len = self.trajectory[\"observations\"].shape[0]\n",
    "\n",
    "        batch_size = trajectory_len//self.num_minibatches\n",
    "\n",
    "        minibatch = {}\n",
    "        for key, value in self.trajectory.items():\n",
    "            if key != 'state':\n",
    "                minibatch[key] = value[self.minibatch_count*batch_size: (self.minibatch_count + 1)*batch_size]\n",
    "\n",
    "        self.minibatch_count += 1\n",
    "\n",
    "        for transform in self.transforms:\n",
    "            transform(minibatch)\n",
    "\n",
    "        return minibatch"
   ]
  },
  {
   "cell_type": "markdown",
   "metadata": {
    "id": "U1UgHPb0NCV8"
   },
   "source": [
    "A common trick to use with GAE is to normalize advantages, please implement the normalization."
   ]
  },
  {
   "cell_type": "code",
   "execution_count": 19,
   "metadata": {
    "id": "GZrUlmFYNCV9"
   },
   "outputs": [],
   "source": [
    "class NormalizeAdvantages:\n",
    "    \"\"\" Normalizes advantages to have zero mean and variance 1. \"\"\"\n",
    "    def __call__(self, trajectory):\n",
    "        # < insert your code here >\n",
    "        adv = trajectory['advantages']\n",
    "        adv = (adv - adv.mean()) / (adv.std() + 1e-8)\n",
    "        trajectory['advantages'] = adv\n",
    "        "
   ]
  },
  {
   "cell_type": "markdown",
   "metadata": {
    "id": "DXnare-INCV-"
   },
   "source": [
    "Finally, we can create our PPO runner. "
   ]
  },
  {
   "cell_type": "code",
   "execution_count": 20,
   "metadata": {
    "id": "tx0Yr0GtNCV_"
   },
   "outputs": [],
   "source": [
    "def make_ppo_runner(env, policy, num_runner_steps=1024,\n",
    "                    gamma=0.99, lambda_=0.95, \n",
    "                    num_epochs=16, num_minibatches=64):\n",
    "    \"\"\" Creates runner for PPO algorithm. \"\"\"\n",
    "    runner_transforms = [AsArray(),\n",
    "                       GAE(policy, gamma=gamma, lambda_=lambda_)]\n",
    "    runner = EnvRunner(env, policy, num_runner_steps, \n",
    "                     transforms=runner_transforms)\n",
    "\n",
    "    sampler_transforms = [NormalizeAdvantages()]\n",
    "    sampler = TrajectorySampler(runner, num_epochs=num_epochs, \n",
    "                              num_minibatches=num_minibatches,\n",
    "                              transforms=sampler_transforms)\n",
    "    return sampler"
   ]
  },
  {
   "cell_type": "markdown",
   "metadata": {
    "id": "MX1aZueWNCWA"
   },
   "source": [
    "In the next cell you will need to implement Proximal Policy Optimization algorithm itself. The algorithm\n",
    "modifies the typical policy gradient loss in the following way:\n",
    "\n",
    "$$\n",
    "J_{\\pi}(s, a) = \\frac{\\pi_\\theta(a|s)}{\\pi_\\theta^{\\text{old}}(a|s)} \\cdot A^{\\mathrm{GAE}(\\gamma,\\lambda)}(s, a)\n",
    "$$\n",
    "\n",
    "$$\n",
    "J_{\\pi}^{\\text{clipped}}(s, a) = \\mathrm{clip}\\left(\n",
    "\\frac{\\pi_\\theta(a|s)}{\\pi_{\\theta^{\\text{old}}}(a|s)},\n",
    "1 - \\text{cliprange}, 1 + \\text{cliprange}\\right)\\cdot A^{\\mathrm{GAE(\\gamma, \\lambda)}}(s)\\\\\n",
    "$$\n",
    "\n",
    "$$\n",
    "L_{\\text{policy}} = -\\frac{1}{T}\\sum_{l=0}^{T-1}\\min\\left(J_\\pi(s_{t + l}, a_{t + l}), J_{\\pi}^{\\text{clipped}}(s_{t + l}, a_{t + l})\\right).\n",
    "$$\n",
    "\n",
    "The value loss is also modified:\n",
    "\n",
    "$$\n",
    "L_{V}^{\\text{clipped}} = \\frac{1}{T}\\sum_{l=0}^{T-1} \\max(l^{simple}(s_{t + l}), l^{clipped}(s_{t + l}))\n",
    "$$\n",
    ", where $l^{simple}$ is your standard critic loss\n",
    "$$\n",
    "l^{simple}(s_{t + l}) = [V_\\theta(s_{t+l}) - G(s_{t + l})]^2\n",
    "$$\n",
    "\n",
    "and $l^{clipped}$ is a clipped version that limits large changes of the value function:\n",
    "$$\n",
    "l^{clipped}(s_{t + l}) = [\n",
    "V_{\\theta^{\\text{old}}}(s_{t+l}) +\n",
    "\\text{clip}\\left(\n",
    "V_\\theta(s_{t+l}) - V_{\\theta^\\text{old}}(s_{t+l}),\n",
    "-\\text{cliprange}, \\text{cliprange}\n",
    "\\right) - G(s_{t + l})] ^ 2\n",
    "$$"
   ]
  },
  {
   "cell_type": "code",
   "execution_count": 21,
   "metadata": {
    "id": "JYGV4EmxNCWB"
   },
   "outputs": [],
   "source": [
    "class PPO:\n",
    "    def __init__(self, policy, optimizer,\n",
    "                   cliprange=0.2,\n",
    "                   value_loss_coef=0.25,\n",
    "                   max_grad_norm=0.5):\n",
    "        self.policy = policy\n",
    "        self.optimizer = optimizer\n",
    "        self.cliprange = cliprange\n",
    "        self.value_loss_coef = value_loss_coef\n",
    "        # Note that we don't need entropy regularization for this env.\n",
    "        self.max_grad_norm = max_grad_norm\n",
    "    \n",
    "    def policy_loss(self, trajectory, act):\n",
    "        \"\"\" Computes and returns policy loss on a given trajectory. \"\"\"\n",
    "        log_probs_all = act['distribution'].log_prob(torch.tensor(trajectory['actions']).cuda())\n",
    "        log_old_probs_all = torch.tensor(trajectory['log_probs']).cuda()\n",
    "        ratio = (log_probs_all - log_old_probs_all).exp()\n",
    "        J_pi = ratio*trajectory['advantages'].cuda().detach()\n",
    "        self.advantages_np = trajectory['advantages'].detach().mean().numpy()\n",
    "        J_pi_clipped = torch.clamp(ratio, 1 - self.cliprange, 1 + self.cliprange)*trajectory['advantages'].cuda().detach()\n",
    "        return -torch.mean(torch.min(J_pi, J_pi_clipped))\n",
    "      \n",
    "    def value_loss(self, trajectory, act):\n",
    "        \"\"\" Computes and returns value loss on a given trajectory. \"\"\"\n",
    "        self.values_np = trajectory['values'].detach().mean().cpu().numpy()\n",
    "        L_simple = (act['values'] - trajectory['value_targets'].cuda().detach())**2\n",
    "        L_clipped = (trajectory['values'].cuda() + torch.clamp(act['values'] - trajectory['values'].cuda(),\n",
    "                    -self.cliprange, self.cliprange) - trajectory['value_targets'].cuda().detach())**2\n",
    "        self.values_loss_np = torch.mean(torch.max(L_simple, L_clipped)).detach().data.cpu().numpy()\n",
    "        return torch.mean(torch.max(L_simple, L_clipped))\n",
    "    \n",
    "      \n",
    "    def loss(self, trajectory):\n",
    "        act = self.policy.act(trajectory[\"observations\"], training=True)\n",
    "        policy_loss = self.policy_loss(trajectory, act)\n",
    "        value_loss = self.value_loss(trajectory, act)\n",
    "        self.policy_loss_np = policy_loss.detach().cpu().numpy()\n",
    "        self.value_loss_np = value_loss.detach().cpu().numpy()\n",
    "        self.ppo_loss_np = self.policy_loss_np + self.value_loss_coef * self.value_loss_np\n",
    "        return policy_loss + self.value_loss_coef * value_loss\n",
    "      \n",
    "    def step(self, trajectory):\n",
    "        \"\"\" Computes the loss function and performs a single gradient step. \"\"\"\n",
    "        self.optimizer.zero_grad()\n",
    "        self.loss(trajectory).backward()\n",
    "        torch.nn.utils.clip_grad_norm_(self.policy.model.parameters(), self.max_grad_norm)\n",
    "        self.optimizer.step()\n",
    "        self.total_norm = 0\n",
    "        for p in self.policy.model.parameters():\n",
    "            param_norm = p.grad.data.norm(2)\n",
    "            self.total_norm += param_norm.item() ** 2\n",
    "        self.total_norm = self.total_norm ** (1. / 2)"
   ]
  },
  {
   "cell_type": "markdown",
   "metadata": {
    "id": "AVNS0IFhNCWB"
   },
   "source": [
    "Now everything is ready to do training. In one million of interactions it should be possible to \n",
    "achieve the total raw reward of about 1500. You should plot this quantity with respect to \n",
    "`runner.step_var` &mdash; the number of interactions with the environment. It is highly \n",
    "encouraged to also provide plots of the following quantities (these are useful for debugging as well):\n",
    "\n",
    "* [Coefficient of Determination](https://en.wikipedia.org/wiki/Coefficient_of_determination) between \n",
    "value targets and value predictions\n",
    "* Entropy of the policy $\\pi$\n",
    "* Value loss\n",
    "* Policy loss\n",
    "* Value targets\n",
    "* Value predictions\n",
    "* Gradient norm\n",
    "* Advantages\n",
    "\n",
    "For optimization it is suggested to use Adam optimizer with linearly annealing learning rate \n",
    "from 3e-4 to 0 and epsilon 1e-5."
   ]
  },
  {
   "cell_type": "code",
   "execution_count": 22,
   "metadata": {
    "id": "WmroaOHX33nZ"
   },
   "outputs": [],
   "source": [
    "model = PolicyModel()\n",
    "model = model.cuda()\n",
    "\n",
    "policy = Policy(model)\n",
    "\n",
    "runner = make_ppo_runner(env, policy)"
   ]
  },
  {
   "cell_type": "code",
   "execution_count": 23,
   "metadata": {
    "id": "Psvv8oru3POG"
   },
   "outputs": [],
   "source": [
    "from IPython.display import clear_output\n",
    "from matplotlib import pyplot as plt"
   ]
  },
  {
   "cell_type": "code",
   "execution_count": 24,
   "metadata": {},
   "outputs": [],
   "source": [
    "def evaluate(agent, n_games=1, render=False):\n",
    "    \"\"\"Plays an a game from start till done, returns per-game rewards \"\"\"\n",
    "    agent.train(False)\n",
    "    game_rewards = []\n",
    "    for _ in range(n_games):\n",
    "        state = env.reset()\n",
    "        total_reward = 0\n",
    "        while True:\n",
    "            if render:\n",
    "                env.render()\n",
    "            state = torch.tensor(state, dtype=torch.float32)\n",
    "            (mus, sigmas), _ = agent(state)\n",
    "            dist = torch.distributions.MultivariateNormal(mus, torch.diag_embed(sigmas, 0))\n",
    "            action = dist.sample().cpu().detach().numpy()\n",
    "            state, reward, done, info = env.step(action)\n",
    "            total_reward += reward\n",
    "            if done:\n",
    "                break\n",
    "        game_rewards.append(total_reward)\n",
    "    agent.train(True)\n",
    "    return game_rewards"
   ]
  },
  {
   "cell_type": "code",
   "execution_count": 25,
   "metadata": {},
   "outputs": [],
   "source": [
    "def plot_tools(legend, position, data_y):\n",
    "    plt.subplot(2,4,position)\n",
    "    plt.plot(data_y, label=legend)\n",
    "    plt.title(legend); plt.grid(); plt.legend() \n",
    "    plt.ticklabel_format(axis=\"x\", style=\"sci\", scilimits=(0,0))"
   ]
  },
  {
   "cell_type": "code",
   "execution_count": 26,
   "metadata": {},
   "outputs": [],
   "source": [
    "\n",
    "optimizer = torch.optim.Adam(model.parameters(), lr=3e-4, eps=1e-05)\n",
    "ppo = PPO(policy, optimizer) \n",
    "num_steps = []\n",
    "current_number_of_steps = 0\n",
    "rewards = []\n",
    "value_losses = []\n",
    "policy_losses = []\n",
    "values = []\n",
    "grad_norms = []\n",
    "advantages = []\n",
    "ppo_losses = []\n",
    "\n",
    "MAX_UPDATES = 3_000_900\n",
    "i = 0\n",
    "while current_number_of_steps<=MAX_UPDATES:\n",
    "    i += 1\n",
    "    trajectory = runner.get_next()\n",
    "    ppo.step(trajectory)\n",
    "    current_number_of_steps = runner.runner.step_var\n",
    "    ppo.optimizer.param_groups[0]['lr'] = (1.0 - (current_number_of_steps - 1.0)/MAX_UPDATES)*3e-4\n",
    "    value_losses.append(ppo.values_loss_np)\n",
    "    policy_losses.append(ppo.policy_loss_np)\n",
    "    values.append(ppo.values_np)\n",
    "    grad_norms.append(ppo.total_norm)\n",
    "    advantages.append(ppo.advantages_np)\n",
    "    ppo_losses.append(ppo.ppo_loss_np)\n",
    "    if i%100==0:\n",
    "        clear_output(True)\n",
    "        num_steps.append(runner.runner.step_var)\n",
    "        \n",
    "        rewards.append(np.mean(evaluate(env2, model, n_games=5)))\n",
    "        \n",
    "        plt.figure(figsize=[20,10])\n",
    "        \n",
    "        plt.subplot(2,4,1)\n",
    "        plt.plot(num_steps, rewards, label='Reward')\n",
    "        plt.title(\"Rewards\"); plt.grid(); plt.legend()\n",
    "        plt.ticklabel_format(axis=\"x\", style=\"sci\", scilimits=(0,0))\n",
    "\n",
    "        plot_tools('Values', 2, values)\n",
    "        plot_tools('Value loss', 3, value_losses)\n",
    "        plot_tools('Policy loss', 4, policy_losses)\n",
    "        plot_tools('PPO loss', 5, ppo_losses)\n",
    "        plot_tools('Grad_norm_L2', 6, grad_norms) \n",
    "        plot_tools('Advantages', 7, advantages)\n",
    "\n",
    "        plt.show()"
   ]
  },
  {
   "cell_type": "code",
   "execution_count": 102,
   "metadata": {
    "colab": {
     "base_uri": "https://localhost:8080/",
     "height": 312
    },
    "id": "2W5StJsb1mz2",
    "outputId": "7a902763-0cc7-4dfe-9746-3511fbe555f5"
   },
   "outputs": [],
   "source": [
    "# optimizer = torch.optim.Adam(policy.model.parameters(), lr = 3e-4, eps=1e-5)\n",
    "# epochs = 250000\n",
    "\n",
    "# lr_mult = lambda epoch: (1 - (epoch/epochs))\n",
    "# sched = torch.optim.lr_scheduler.LambdaLR(optimizer, lr_mult)\n",
    "\n",
    "# ppo = PPO(policy, optimizer)\n",
    "\n",
    "# for epoch in tqdm(range(epochs)):\n",
    "#     trajectory = runner.get_next()\n",
    "\n",
    "#     if (epoch + 1) % 100 == 0:\n",
    "#         clear_output(True)\n",
    "#         rewards = np.array(env.env.episode_rewards)\n",
    "\n",
    "#         if rewards.size > 0:\n",
    "#             plt.plot(rewards[:, 0], rewards[:, 1], label = \"episode rewards\")\n",
    "#             plt.title(\"Reward\")\n",
    "#             plt.xlabel(\"Total steps\")\n",
    "#             plt.ylabel(\"Reward\")\n",
    "#             plt.grid()\n",
    "#             plt.show()\n",
    "\n",
    "#     ppo.step(trajectory)\n",
    "#     sched.step()"
   ]
  },
  {
   "cell_type": "code",
   "execution_count": null,
   "metadata": {
    "colab": {
     "base_uri": "https://localhost:8080/",
     "height": 295
    },
    "id": "OxD3w7uWbsYt",
    "outputId": "551690d0-f96d-406a-efc7-73ff50508c70"
   },
   "outputs": [],
   "source": [
    "rewards = np.array(env.env.episode_rewards)\n",
    "\n",
    "if rewards.size > 0:\n",
    "    plt.plot(rewards[:, 0], rewards[:, 1], label = \"episode rewards\")\n",
    "    plt.title(\"Reward\")\n",
    "    plt.xlabel(\"Total steps\")\n",
    "    plt.ylabel(\"Reward\")\n",
    "    plt.ylim(-1000, 2500)\n",
    "    plt.grid()\n",
    "    plt.show()"
   ]
  },
  {
   "cell_type": "code",
   "execution_count": null,
   "metadata": {
    "id": "sixQI_jMASJR"
   },
   "outputs": [],
   "source": []
  },
  {
   "cell_type": "code",
   "execution_count": null,
   "metadata": {},
   "outputs": [],
   "source": []
  }
 ],
 "metadata": {
  "accelerator": "GPU",
  "colab": {
   "collapsed_sections": [],
   "name": "Копия блокнота \"Копия блокнота \"Копия блокнота \"Копия блокнота \"ppo.ipynb\"\"\"\"",
   "provenance": [],
   "toc_visible": true
  },
  "kernelspec": {
   "display_name": "Python 3",
   "language": "python",
   "name": "python3"
  },
  "language_info": {
   "codemirror_mode": {
    "name": "ipython",
    "version": 3
   },
   "file_extension": ".py",
   "mimetype": "text/x-python",
   "name": "python",
   "nbconvert_exporter": "python",
   "pygments_lexer": "ipython3",
   "version": "3.10.9"
  }
 },
 "nbformat": 4,
 "nbformat_minor": 1
}
